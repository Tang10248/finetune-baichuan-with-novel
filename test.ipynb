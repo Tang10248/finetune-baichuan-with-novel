{
 "cells": [
  {
   "cell_type": "markdown",
   "metadata": {},
   "source": [
    "- result"
   ]
  },
  {
   "cell_type": "code",
   "execution_count": null,
   "metadata": {},
   "outputs": [],
   "source": [
    "import os\n",
    "import torch\n",
    "from transformers import AutoModelForCausalLM, BitsAndBytesConfig, AutoTokenizer\n",
    "import datasets\n",
    "from peft import PeftModel, prepare_model_for_kbit_training\n",
    "import os\n",
    "import torch\n",
    "from transformers import AutoModel, AutoTokenizer, AutoModelForCausalLM, BitsAndBytesConfig\n",
    "from peft import PeftModel, LoraConfig, get_peft_model\n",
    "from model import load_model\n",
    "from peft import PeftModel\n",
    "from transformers import  GenerationConfig"
   ]
  },
  {
   "cell_type": "code",
   "execution_count": null,
   "metadata": {},
   "outputs": [],
   "source": [
    "import torch\n",
    "print(torch.cuda.device_count())  # 输出可用 GPU 的数量\n"
   ]
  },
  {
   "cell_type": "code",
   "execution_count": null,
   "metadata": {},
   "outputs": [],
   "source": [
    "print(torch.cuda.current_device())"
   ]
  },
  {
   "cell_type": "code",
   "execution_count": null,
   "metadata": {},
   "outputs": [],
   "source": [
    "model, tokenizer = load_model(\"baichuan\", \"./pretrained/baichuan-7b/\", quantization=\"16bit\")\n",
    "lora_model = PeftModel.from_pretrained(model, \"./output/baichuan_lorasft/\")\n",
    "# lora_model=model\n",
    "generation_config = GenerationConfig(\n",
    "        temperature=0.5,\n",
    "        top_p = 0.85,\n",
    "        do_sample = True, \n",
    "        repetition_penalty=2.0, \n",
    "        max_new_tokens=1024,  # max_length=max_new_tokens+input_sequence\n",
    "\n",
    ")\n",
    "device = model.device\n"
   ]
  },
  {
   "cell_type": "code",
   "execution_count": null,
   "metadata": {},
   "outputs": [],
   "source": [
    "print(device)"
   ]
  },
  {
   "cell_type": "code",
   "execution_count": null,
   "metadata": {},
   "outputs": [],
   "source": [
    "\n",
    "def pro(prompt):\n",
    "    \n",
    "    # input =\"Human: \" + prompt + \"\\n\\nAssistant: \"\n",
    "    inpp=prompt\n",
    "    inputs = tokenizer(inpp,return_tensors=\"pt\").to(device)\n",
    "    generate_ids = lora_model.generate(**inputs, generation_config=generation_config)\n",
    "    output = tokenizer.decode(generate_ids[0][len(inputs.input_ids[0]):])\n",
    "    print(output)\n",
    "    return output\n",
    "prompt='你是我的朋友，现在你要和我聊天。'\n",
    "while True:\n",
    "    inp=input(\"输入：\")\n",
    "    prompt+='我：'+inp+'。'+'你：'\n",
    "    prompt=pro(prompt)\n"
   ]
  },
  {
   "cell_type": "code",
   "execution_count": null,
   "metadata": {},
   "outputs": [],
   "source": [
    "print(device)"
   ]
  }
 ],
 "metadata": {
  "kernelspec": {
   "display_name": "ft-bc",
   "language": "python",
   "name": "python3"
  },
  "language_info": {
   "codemirror_mode": {
    "name": "ipython",
    "version": 3
   },
   "file_extension": ".py",
   "mimetype": "text/x-python",
   "name": "python",
   "nbconvert_exporter": "python",
   "pygments_lexer": "ipython3",
   "version": "3.8.20"
  }
 },
 "nbformat": 4,
 "nbformat_minor": 2
}
